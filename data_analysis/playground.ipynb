{
 "cells": [
  {
   "cell_type": "code",
   "execution_count": 3,
   "metadata": {},
   "outputs": [],
   "source": [
    "import numpy as np"
   ]
  },
  {
   "cell_type": "code",
   "execution_count": null,
   "metadata": {},
   "outputs": [],
   "source": []
  },
  {
   "cell_type": "code",
   "execution_count": 27,
   "metadata": {},
   "outputs": [],
   "source": [
    "a1 = np.array([[1,2,3,4,5],[7,8,9,10,11]], np.float16)\n",
    "a2 = np.zeros((2,3))\n",
    "a3 = np.empty((2,3,2))\n",
    "a4 = np.ones((2,3,4))"
   ]
  },
  {
   "cell_type": "code",
   "execution_count": 40,
   "metadata": {},
   "outputs": [],
   "source": [
    "a5 = np.array([np.arange(1,10),range(10,20)])"
   ]
  },
  {
   "cell_type": "code",
   "execution_count": 60,
   "metadata": {},
   "outputs": [],
   "source": [
    "a5 = np.zeros((2,5),np.int)"
   ]
  },
  {
   "cell_type": "code",
   "execution_count": 62,
   "metadata": {},
   "outputs": [],
   "source": [
    "a5[1] = np.arange(6,11)"
   ]
  },
  {
   "cell_type": "code",
   "execution_count": 84,
   "metadata": {},
   "outputs": [
    {
     "data": {
      "text/plain": [
       "array([[1., 0., 0.],\n",
       "       [0., 1., 0.],\n",
       "       [0., 0., 1.]])"
      ]
     },
     "execution_count": 84,
     "metadata": {},
     "output_type": "execute_result"
    }
   ],
   "source": [
    "a1 = np.array([[1,2,3],[2,2,2],[3,4,5]])\n",
    "a0 = np.eye(3)\n",
    "a0"
   ]
  },
  {
   "cell_type": "code",
   "execution_count": 128,
   "metadata": {},
   "outputs": [
    {
     "data": {
      "text/plain": [
       "array([[1000.,    0.,    2.],\n",
       "       [   0.,    1.,    0.],\n",
       "       [   0.,    0.,    1.]])"
      ]
     },
     "execution_count": 128,
     "metadata": {},
     "output_type": "execute_result"
    }
   ],
   "source": [
    "a0"
   ]
  },
  {
   "cell_type": "code",
   "execution_count": 140,
   "metadata": {},
   "outputs": [
    {
     "data": {
      "text/plain": [
       "array([[1000.],\n",
       "       [   0.],\n",
       "       [  10.]])"
      ]
     },
     "execution_count": 140,
     "metadata": {},
     "output_type": "execute_result"
    }
   ],
   "source": [
    "a0[:,:1]"
   ]
  },
  {
   "cell_type": "code",
   "execution_count": 165,
   "metadata": {},
   "outputs": [],
   "source": [
    "data = np.random.randn(7,4)\n",
    "names = np.array(['Bob','Joe','Will','Bob','Will','Joe','Joe'])"
   ]
  },
  {
   "cell_type": "code",
   "execution_count": 170,
   "metadata": {},
   "outputs": [
    {
     "data": {
      "text/plain": [
       "array([[-0.2709616 ,  0.96288921, -0.23988425,  0.46322267],\n",
       "       [-2.05062808, -0.6867059 ,  0.64076887, -0.48455773],\n",
       "       [ 1.08121516,  0.40172361,  1.47427551,  1.18727109],\n",
       "       [-1.19684576,  2.0239539 , -0.61326544,  0.07733534],\n",
       "       [ 0.21579002, -0.77678373,  2.51527574,  0.73861349]])"
      ]
     },
     "execution_count": 170,
     "metadata": {},
     "output_type": "execute_result"
    }
   ],
   "source": [
    "data[names!='Bob']"
   ]
  },
  {
   "cell_type": "code",
   "execution_count": 162,
   "metadata": {},
   "outputs": [
    {
     "data": {
      "text/plain": [
       "array([ True, False, False,  True, False, False, False])"
      ]
     },
     "execution_count": 162,
     "metadata": {},
     "output_type": "execute_result"
    }
   ],
   "source": [
    "names=='Bob'"
   ]
  },
  {
   "cell_type": "code",
   "execution_count": 173,
   "metadata": {},
   "outputs": [
    {
     "data": {
      "text/plain": [
       "array([[-0.47648619,  0.32974072, -0.9659135 , -0.55181618],\n",
       "       [-0.2709616 ,  0.96288921, -0.23988425,  0.46322267],\n",
       "       [-2.05062808, -0.6867059 ,  0.64076887, -0.48455773],\n",
       "       [ 0.17880269,  0.59734633, -2.02625528, -0.74290404],\n",
       "       [ 1.08121516,  0.40172361,  1.47427551,  1.18727109],\n",
       "       [-1.19684576,  2.0239539 , -0.61326544,  0.07733534],\n",
       "       [ 0.21579002, -0.77678373,  2.51527574,  0.73861349]])"
      ]
     },
     "execution_count": 173,
     "metadata": {},
     "output_type": "execute_result"
    }
   ],
   "source": [
    "data"
   ]
  },
  {
   "cell_type": "code",
   "execution_count": 175,
   "metadata": {},
   "outputs": [
    {
     "data": {
      "text/plain": [
       "array([[-0.47648619,  0.        , -0.9659135 , -0.55181618],\n",
       "       [-0.2709616 ,  0.        , -0.23988425,  0.        ],\n",
       "       [-2.05062808, -0.6867059 ,  0.        , -0.48455773],\n",
       "       [ 0.        ,  0.        , -2.02625528, -0.74290404],\n",
       "       [ 0.        ,  0.        ,  0.        ,  0.        ],\n",
       "       [-1.19684576,  0.        , -0.61326544,  0.        ],\n",
       "       [ 0.        , -0.77678373,  0.        ,  0.        ]])"
      ]
     },
     "execution_count": 175,
     "metadata": {},
     "output_type": "execute_result"
    }
   ],
   "source": [
    "data"
   ]
  }
 ],
 "metadata": {
  "kernelspec": {
   "display_name": "Python 3",
   "language": "python",
   "name": "python3"
  },
  "language_info": {
   "codemirror_mode": {
    "name": "ipython",
    "version": 3
   },
   "file_extension": ".py",
   "mimetype": "text/x-python",
   "name": "python",
   "nbconvert_exporter": "python",
   "pygments_lexer": "ipython3",
   "version": "3.7.0"
  }
 },
 "nbformat": 4,
 "nbformat_minor": 2
}
