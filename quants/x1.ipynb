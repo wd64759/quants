{
 "metadata": {
  "language_info": {
   "codemirror_mode": {
    "name": "ipython",
    "version": 3
   },
   "file_extension": ".py",
   "mimetype": "text/x-python",
   "name": "python",
   "nbconvert_exporter": "python",
   "pygments_lexer": "ipython3",
   "version": "3.8.4-final"
  },
  "orig_nbformat": 2,
  "kernelspec": {
   "name": "python38464bitd12cd2b74a484e3fa46885bfb4cff5aa",
   "display_name": "Python 3.8.4 64-bit"
  }
 },
 "nbformat": 4,
 "nbformat_minor": 2,
 "cells": [
  {
   "cell_type": "code",
   "execution_count": 3,
   "metadata": {},
   "outputs": [],
   "source": [
    "from sqlalchemy import create_engine\n",
    "from config_loader import cf as config\n",
    "from pprint import pprint\n",
    "\n",
    "dbURL = config.get('MYSQL_DB', 'conn')\n",
    "engine = create_engine(dbURL, encoding='utf-8', connect_args={'auth_plugin': 'mysql_native_password'})"
   ]
  },
  {
   "cell_type": "code",
   "execution_count": 5,
   "metadata": {
    "tags": []
   },
   "outputs": [],
   "source": [
    "sample = engine.execute(\"select * from tickers limit 10\").fetchall()\n",
    "# print(sample.fetchall())\n",
    "\n",
    "findBest = lambda x: max(zip([t[8] for t in x], x))\n",
    "stock = findBest(sample)"
   ]
  },
  {
   "cell_type": "code",
   "execution_count": 3,
   "metadata": {},
   "outputs": [],
   "source": [
    "import pandas as pd\n",
    "companies = pd.read_sql_query('select * from base_stocks', con = engine)"
   ]
  },
  {
   "cell_type": "code",
   "execution_count": 4,
   "metadata": {},
   "outputs": [],
   "source": [
    "trade_dt = '20200720'\n",
    "tkDF = pd.read_sql_query('select * from tickers where trade_date = \"{}\"'.format(trade_dt), con = engine, parse_dates=['trade_date'])"
   ]
  },
  {
   "cell_type": "code",
   "execution_count": 5,
   "metadata": {},
   "outputs": [],
   "source": [
    "stocks, p_close, p_chg, vols = list(tkDF['ts_code']), list(tkDF['close']), list(tkDF['pct_chg']), list(tkDF['vol'])\n",
    "s_id, s_name, s_area, s_ind, s_mkt = list(companies['ts_code']), list(companies['name']), list(companies['area']), list(companies['industry']), list(companies['market'])\n",
    "names = dict(zip(s_id, s_name))\n",
    "areas = dict(zip(s_id, s_area))\n",
    "industries = dict(zip(s_id, s_ind))\n",
    "markets = dict(zip(s_id, s_mkt))"
   ]
  },
  {
   "cell_type": "code",
   "execution_count": 6,
   "metadata": {
    "tags": []
   },
   "outputs": [
    {
     "output_type": "stream",
     "name": "stdout",
     "text": "ts_code  symbol  name area industry market list_date\n266  000725.SZ  000725  京东方A   北京      元器件     主板  20010112\n[(('688256.SH', 229.8649), '元器件'),\n (('688488.SH', 121.015), '生物制药'),\n (('300848.SZ', 44.0028), '化工原料'),\n (('688186.SH', 17.3657), '特种钢'),\n (('601600.SH', 10.1587), '铝'),\n (('600496.SH', 10.1235), '钢加工'),\n (('300080.SZ', 10.1075), '半导体'),\n (('600409.SH', 10.099), '化工原料'),\n (('688002.SH', 10.0976), '通信设备'),\n (('000488.SZ', 10.0952), '造纸')]\n"
    }
   ],
   "source": [
    "# getTopVols = lambda tops: sorted({p[0]:'{}:{}'.format(p[0], p[1]) for p in zip(vols, stocks)}, reverse=True)[:tops]\n",
    "# x = getTopVols(10)\n",
    "# x\n",
    "# max(zip(vols, stocks))\n",
    "# companies[companies['ts_code']=='000725.SZ']\n",
    "getTops = lambda idx, tops: (sorted(zip(stocks, idx), key=lambda x:(x[1]), reverse=True)[:tops])\n",
    "pprint(companies[companies['ts_code']=='000725.SZ'])\n",
    "pprint([(x, industries.get(x[0])) for x in getTops(p_chg, 10)])"
   ]
  },
  {
   "cell_type": "code",
   "execution_count": 7,
   "metadata": {},
   "outputs": [],
   "source": [
    "stockDF = pd.read_sql_query('select * from tickers where ts_code = \"{}\"'.format(\"000725.SZ\"), con = engine, parse_dates=['trade_date'])\n",
    "close_price = list(stockDF['close'])\n",
    "trade_date = list(stockDF['trade_date'])\n",
    "pp_array = [(pre, next) for pre,next in zip(close_price[:-1], close_price[1:])]"
   ]
  },
  {
   "cell_type": "code",
   "execution_count": 8,
   "metadata": {
    "tags": []
   },
   "outputs": [],
   "source": [
    "# change_array = map(lambda pp: reduce(lambda a, b: round((b-a)/a, 3), pp), pp_array)\n",
    "change_array = list(map(lambda x: round((x[1]-x[0])*100/x[0], 2), pp_array))\n",
    "change_array.insert(0, 0)"
   ]
  },
  {
   "cell_type": "code",
   "execution_count": 9,
   "metadata": {},
   "outputs": [
    {
     "output_type": "execute_result",
     "data": {
      "text/plain": "[('20150105', 0),\n ('20150106', 0.87),\n ('20150107', -0.29),\n ('20150108', -2.01),\n ('20150109', -2.35),\n ('20150112', -3.3),\n ('20150113', 1.55),\n ('20150114', -2.45),\n ('20150115', 2.19),\n ('20150116', 0.92),\n ('20150119', -8.51),\n ('20150120', 2.99),\n ('20150121', 2.9),\n ('20150122', 0.0),\n ('20150123', -1.25),\n ('20150126', 1.27),\n ('20150127', 0.31),\n ('20150128', -1.25),\n ('20150129', -0.95),\n ('20150130', -0.64)]"
     },
     "metadata": {},
     "execution_count": 9
    }
   ],
   "source": [
    "# change_array.insert(0, 0)\n",
    "list(zip(map(lambda f: f.strftime('%Y%m%d'), trade_date), change_array))[:20]"
   ]
  },
  {
   "cell_type": "code",
   "execution_count": 11,
   "metadata": {},
   "outputs": [],
   "source": [
    "from collections import namedtuple, OrderedDict\n",
    "\n",
    "stock_tuple = namedtuple('stock', ('date', 'price', 'change'))\n",
    "# [ (trd_dt, stock_tuple(trd_dt, price, change)) for trd_dt, price, change in zip(map(lambda t: t.strftime('%Y%m%d'), trade_date), close_price, change_array]\n",
    "stock_dict = OrderedDict((trd_dt, stock_tuple(trd_dt, price, change)) for trd_dt, price, change in zip(map(lambda t: t.strftime('%Y%m%d'), trade_date), close_price, change_array))"
   ]
  },
  {
   "cell_type": "code",
   "execution_count": 36,
   "metadata": {
    "tags": []
   },
   "outputs": [
    {
     "output_type": "execute_result",
     "data": {
      "text/plain": "1306.36"
     },
     "metadata": {},
     "execution_count": 36
    }
   ],
   "source": [
    "# stock_dict\n",
    "# a = list(stock_dict.values())[1].change\n",
    "x = filter(lambda x: x.change > 0, stock_dict.values())\n",
    "sum([x.change for x in x])"
   ]
  },
  {
   "cell_type": "code",
   "execution_count": 43,
   "metadata": {},
   "outputs": [],
   "source": [
    "from functools import partial\n",
    "\n",
    "def filter_stock(stock_dict, up_or_down, sum_flag):\n",
    "    if not isinstance(stock_dict, OrderedDict):\n",
    "        raise TypeError('stock_dict must be OrderedDict')\n",
    "    wanted_stocks = filter(lambda x: x.change > 0 if up_or_down else x.change <= 0, stock_dict.values())\n",
    "    if not sum_flag:\n",
    "        return OrderedDict({x.date:x for x in wanted_stocks})\n",
    "    else:\n",
    "        return sum([x.change for x in wanted_stocks])\n",
    "\n",
    "filter_up_sum = partial(filter_stock, up_or_down=True, sum_flag=True)\n",
    "filter_down_sum = partial(filter_stock, up_or_down=False, sum_flag=True)"
   ]
  },
  {
   "cell_type": "code",
   "execution_count": 46,
   "metadata": {},
   "outputs": [
    {
     "output_type": "execute_result",
     "data": {
      "text/plain": "745"
     },
     "metadata": {},
     "execution_count": 46
    }
   ],
   "source": [
    "# filter_stock(stock_dict, up_or_down=True, sum_flag=False)\n",
    "# filter_up_sum(stock_dict)\n",
    "# filter_down_sum(stock_dict)\n",
    "# locals()\n",
    "len(filter_stock(stock_dict, up_or_down=True, sum_flag=False))\n",
    "len(filter_stock(stock_dict, up_or_down=False, sum_flag=False))"
   ]
  },
  {
   "cell_type": "code",
   "execution_count": 6,
   "metadata": {},
   "outputs": [],
   "source": [
    "from functools import reduce\n",
    "\n",
    "from trade_loopback import TradeLoopBack\n",
    "from stock import TradeDays\n",
    "from trade_strategy import GamblerStrategy"
   ]
  },
  {
   "cell_type": "code",
   "execution_count": 7,
   "metadata": {
    "tags": []
   },
   "outputs": [
    {
     "output_type": "stream",
     "name": "stdout",
     "text": "'buy on 2020-07-06, at 15.68'\n-5.98%\n"
    }
   ],
   "source": [
    "trade_days = TradeDays(code='000001.SZ', base_date='20200101')\n",
    "loopback = TradeLoopBack(trade_days, GamblerStrategy())\n",
    "loopback.execute_trade()\n",
    "print('{:.2f}%'.format(reduce(lambda a, b: a + b, loopback.profit_days)))"
   ]
  },
  {
   "cell_type": "code",
   "execution_count": null,
   "metadata": {},
   "outputs": [],
   "source": [
    "plt.plot(np.array(loopback.profit_days).cumsum())"
   ]
  }
 ]
}